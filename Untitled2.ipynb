{
 "cells": [
  {
   "cell_type": "code",
   "execution_count": 2,
   "id": "41f1b1ac",
   "metadata": {},
   "outputs": [],
   "source": [
    "import cv2\n",
    "import mediapipe as mp\n",
    "from djitellopy import Tello\n"
   ]
  },
  {
   "cell_type": "code",
   "execution_count": 1,
   "id": "49eea52e",
   "metadata": {},
   "outputs": [
    {
     "ename": "NameError",
     "evalue": "name 'mp' is not defined",
     "output_type": "error",
     "traceback": [
      "\u001b[1;31m---------------------------------------------------------------------------\u001b[0m",
      "\u001b[1;31mNameError\u001b[0m                                 Traceback (most recent call last)",
      "\u001b[1;32m~\\AppData\\Local\\Temp/ipykernel_11976/1455573.py\u001b[0m in \u001b[0;36m<module>\u001b[1;34m\u001b[0m\n\u001b[1;32m----> 1\u001b[1;33m \u001b[0mmp_drawing\u001b[0m \u001b[1;33m=\u001b[0m \u001b[0mmp\u001b[0m\u001b[1;33m.\u001b[0m\u001b[0msolutions\u001b[0m\u001b[1;33m.\u001b[0m\u001b[0mdrawing_utils\u001b[0m\u001b[1;33m\u001b[0m\u001b[1;33m\u001b[0m\u001b[0m\n\u001b[0m\u001b[0;32m      2\u001b[0m \u001b[0mmp_drawing_styles\u001b[0m \u001b[1;33m=\u001b[0m \u001b[0mmp\u001b[0m\u001b[1;33m.\u001b[0m\u001b[0msolutions\u001b[0m\u001b[1;33m.\u001b[0m\u001b[0mdrawing_utils\u001b[0m\u001b[1;33m\u001b[0m\u001b[1;33m\u001b[0m\u001b[0m\n\u001b[0;32m      3\u001b[0m \u001b[1;33m\u001b[0m\u001b[0m\n",
      "\u001b[1;31mNameError\u001b[0m: name 'mp' is not defined"
     ]
    }
   ],
   "source": [
    "mp_drawing = mp.solutions.drawing_utils\n",
    "mp_drawing_styles = mp.solutions.drawing_utils\n",
    "\n"
   ]
  },
  {
   "cell_type": "code",
   "execution_count": 6,
   "id": "35b5082e",
   "metadata": {},
   "outputs": [
    {
     "data": {
      "text/plain": [
       "True"
      ]
     },
     "execution_count": 6,
     "metadata": {},
     "output_type": "execute_result"
    }
   ],
   "source": [
    "cap = cv2.VideoCapture(0)\n",
    "width = 720\n",
    "height = 280\n",
    "cap.set(cv2.CAP_PROP_FRAME_WIDTH, width)\n",
    "cap.set(cv2.CAP_PROP_FRAME_HEIGHT, height)\n"
   ]
  },
  {
   "cell_type": "code",
   "execution_count": 4,
   "id": "8944fd46",
   "metadata": {},
   "outputs": [
    {
     "name": "stderr",
     "output_type": "stream",
     "text": [
      "[INFO] tello.py - 129 - Tello instance was initialized. Host: '192.168.10.1'. Port: '8889'.\n",
      "[INFO] tello.py - 438 - Send command: 'command'\n",
      "[INFO] tello.py - 462 - Response command: 'ok'\n",
      "[INFO] tello.py - 438 - Send command: 'streamoff'\n",
      "[INFO] tello.py - 462 - Response streamoff: 'ok'\n",
      "[INFO] tello.py - 438 - Send command: 'streamon'\n",
      "[INFO] tello.py - 462 - Response streamon: 'ok'\n"
     ]
    }
   ],
   "source": [
    "me = tello.Tello()\n",
    "me.connect()\n",
    "me.streamoff()\n",
    "me.streamon()\n",
    "isDroneFlying = False #Intialising the variable to check if drone is flying or not\n"
   ]
  },
  {
   "cell_type": "code",
   "execution_count": 6,
   "id": "5b8e6885",
   "metadata": {},
   "outputs": [],
   "source": [
    "def droneGestureController(image):\n",
    "    image.flags.writeable = False\n",
    "    image = cv2.cvtColor(image, cv2.COLOR_BGR2RGB)\n",
    "    results = hands.process(image)\n",
    "    image.flags.writeable = True\n",
    "    image = cv2.cvtColor(image, cv2.COLOR_RGB2BGR)\n",
    "    if results.multi_hand_landmarks:\n",
    "\n",
    "        for hand_landmarks in results.multi_hand_landmarks:\n",
    "            mp_drawing.draw_landmarks(image, hand_landmarks, mp_hands.HAND_CONNECTIONS,\n",
    "                                      mp_drawing_styles.get_default_hand_landmarks_style(),\n",
    "                                      mp_drawing_styles.get_default_hand_connections_style())\n",
    "            handlms = []\n",
    "\n",
    "            c = 0\n",
    "            for i in hand_landmarks.landmark:\n",
    "                height, width, fc = image.shape\n",
    "                x = (i.x) * width\n",
    "                y = (i.y) * height\n",
    "                handlms.append([c, int(x), int(y)])\n",
    "                c = c + 1\n",
    "            totalFingers = 0\n",
    "\n",
    "            if (len(handlms) != 0):\n",
    "                fingerTips = [8, 12, 16, 20]\n",
    "                if(handlms[4][1]>handlms[3][1]):\n",
    "                    totalFingers+=1\n",
    "\n",
    "                for i in fingerTips:\n",
    "                    if (handlms[i][2] < handlms[i - 2][2]):\n",
    "                        totalFingers += 1\n",
    "\n",
    "            droneAction = \"\"\n",
    "\n",
    "            if (totalFingers==0):\n",
    "                droneAction=\"Land\"\n",
    "                me.land()\n",
    "\n",
    "            elif (totalFingers == 1):\n",
    "                droneAction = \"Move forward\"\n",
    "                me.send_rc_control(0,30,0,0)\n",
    "\n",
    "            elif (totalFingers == 2):\n",
    "                droneAction = \"Move backward\"\n",
    "                me.send_rc_control(0, -30, 0, 0)\n",
    "\n",
    "            elif (totalFingers == 3):\n",
    "                droneAction = \"Left\"\n",
    "                me.send_rc_control(-30, 0, 0, 0)\n",
    "\n",
    "            elif(totalFingers == 4):\n",
    "                droneAction = \"Right\"\n",
    "                me.send_rc_control(30, 0, 0, 0)\n",
    "\n",
    "            elif(totalFingers==5):\n",
    "                droneAction = \"Takeoff\"\n",
    "                me.takeoff()\n",
    "                me.send_rc_control(0, 0, 50, 0)\n",
    "\n",
    "            else:\n",
    "                droneAction = \"No Action\"\n",
    "\n",
    "            cv2.putText(image, droneAction+\" \"+str(totalFingers), (10, 25), cv2.FONT_HERSHEY_SIMPLEX, 1, (255, 0, 0), 2, cv2.LINE_AA)\n",
    "            return [image,handlms]\n",
    "        return [image,[0]]\n",
    "    return [image,[0]]\n"
   ]
  },
  {
   "cell_type": "code",
   "execution_count": null,
   "id": "9cdc47b5",
   "metadata": {},
   "outputs": [],
   "source": []
  }
 ],
 "metadata": {
  "kernelspec": {
   "display_name": "Python 3 (ipykernel)",
   "language": "python",
   "name": "python3"
  },
  "language_info": {
   "codemirror_mode": {
    "name": "ipython",
    "version": 3
   },
   "file_extension": ".py",
   "mimetype": "text/x-python",
   "name": "python",
   "nbconvert_exporter": "python",
   "pygments_lexer": "ipython3",
   "version": "3.8.10"
  }
 },
 "nbformat": 4,
 "nbformat_minor": 5
}
